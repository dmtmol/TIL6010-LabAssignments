{
 "cells": [
  {
   "cell_type": "code",
   "execution_count": 1,
   "metadata": {},
   "outputs": [
    {
     "name": "stdout",
     "output_type": "stream",
     "text": [
      "Set parameter Username\n",
      "Academic license - for non-commercial use only - expires 2023-09-14\n"
     ]
    }
   ],
   "source": [
    "from gurobipy import *\n",
    "\n",
    "model = Model ('AirplaneCargo')"
   ]
  },
  {
   "cell_type": "code",
   "execution_count": 2,
   "metadata": {},
   "outputs": [],
   "source": [
    "# ---- Parameters ----\n",
    "\n",
    "\n",
    "# Cargo characteristics\n",
    "cargoname     = ('bulk_1', 'bulk_2', 'bulk_3', 'bulk_4')\n",
    "cargovolume   = (500, 700, 600, 400)        # m3 / ton\n",
    "cargoprofit   = (320, 400, 360, 290)        # euro / ton\n",
    "\n",
    "NrOfDays = 3                                # planning horizon \n",
    "                                            # (model uses only the cargodata of the days in this range)\n",
    "cargoquantity = ( ( 20, 0, 0),              # ton available each day\n",
    "                  ( 16, 0, 0),              # not transported cargo is available for next days\n",
    "                  ( 25, 0, 0), \n",
    "                  ( 13, 0, 0) )\n",
    "\n",
    "                  \n",
    "# Compartment characteristics\n",
    "compname  = ('front', 'center', 'back')\n",
    "maxweight = (12, 18, 10)                    # ton\n",
    "maxvolume = (7000, 9000, 5000)              # m3\n",
    "\n"
   ]
  },
  {
   "cell_type": "code",
   "execution_count": 3,
   "metadata": {},
   "outputs": [],
   "source": [
    "# ---- Sets ----\n",
    "\n",
    "I = range (len (cargoname) )                # set of cargo types\n",
    "J = range (len (compname) )                 # set of compartments\n",
    "K = range (NrOfDays)                        # set of compartments\n",
    "\n"
   ]
  },
  {
   "cell_type": "code",
   "execution_count": 4,
   "metadata": {},
   "outputs": [],
   "source": [
    "# ---- Variables ----\n",
    "\n",
    "# Decision Variable x(i,j) (cargo of type in in compartment j)\n",
    "x = {} \n",
    "for i in I:\n",
    "    for j in J:\n",
    "        for k in K:\n",
    "            x[i,j,k] = model.addVar (lb = 0, vtype = GRB.CONTINUOUS, name = 'X[' + str(i) + ',' + str(j) + ',' + str(k) + ']')\n",
    "# Integrate new variables\n",
    "model.update ()"
   ]
  },
  {
   "cell_type": "code",
   "execution_count": 5,
   "metadata": {},
   "outputs": [],
   "source": [
    "# ---- Objective Function ----\n",
    "\n",
    "model.setObjective (quicksum (cargoprofit[i] * x[i,j,k] for i in I for j in J for k in K) )\n",
    "model.modelSense = GRB.MAXIMIZE\n",
    "model.update ()"
   ]
  },
  {
   "cell_type": "code",
   "execution_count": 6,
   "metadata": {},
   "outputs": [],
   "source": [
    "# Constraints 1: volume capacity\n",
    "con1 = {}\n",
    "for j in J:\n",
    "    for k in K:\n",
    "        con1[j,k] = model.addConstr( quicksum (cargovolume[i] * x[i,j,k] for i in I) <= maxvolume[j], 'con1[' + str(j) + ',' + str(k) + ']-')\n",
    "\n",
    "# Constraints 2: weight capacity\n",
    "con2 = {}\n",
    "for j in J:\n",
    "    for k in K:\n",
    "        con2[j,k] = model.addConstr( quicksum (x[i,j,k] for i in I) <= maxweight[j], 'con2[' + str(j) + ',' + str(k) + ']-')\n",
    "\n",
    "# Constraints 3: available amount \n",
    "con3 = {}\n",
    "for i in I:\n",
    "    for k in K:\n",
    "        con3[i,k] = model.addConstr( quicksum (x[i,j,d] for j in J for d in range (k+1) ) <= quicksum (cargoquantity[i][d] for d in range (k+1)), 'con3[' + str(i) + ',' + str(k) + ']-')\n",
    "\n",
    "\n",
    "# Constraint 4: weight balance first compartment with other compartments\n",
    "con4 = {}\n",
    "for k in K:\n",
    "    for j in range (1, len(J)):\n",
    "        con4[k,j] = model.addConstr( quicksum (x[i,0,k] for i in I) * maxweight[j] == quicksum (x[i,j,k] for i in I) * maxweight[0], 'con4[' + str(j) + ']-')\n"
   ]
  },
  {
   "cell_type": "code",
   "execution_count": 7,
   "metadata": {},
   "outputs": [
    {
     "name": "stdout",
     "output_type": "stream",
     "text": [
      "Set parameter MIPGap to value 0\n",
      "Warning: linear constraint 30 and linear constraint 32 have the same name \"con4[1]-\"\n",
      "Gurobi Optimizer version 9.5.2 build v9.5.2rc0 (win64)\n",
      "Thread count: 6 physical cores, 12 logical processors, using up to 12 threads\n",
      "Optimize a model with 36 rows, 36 columns and 192 nonzeros\n",
      "Model fingerprint: 0x717d4368\n",
      "Coefficient statistics:\n",
      "  Matrix range     [1e+00, 7e+02]\n",
      "  Objective range  [3e+02, 4e+02]\n",
      "  Bounds range     [0e+00, 0e+00]\n",
      "  RHS range        [1e+01, 9e+03]\n",
      "Presolve time: 0.01s\n",
      "Presolved: 36 rows, 36 columns, 192 nonzeros\n",
      "\n",
      "Iteration    Objective       Primal Inf.    Dual Inf.      Time\n",
      "       0    3.8531250e+32   1.310859e+32   3.853125e+02      0s\n",
      "      19    2.5570000e+04   0.000000e+00   0.000000e+00      0s\n",
      "\n",
      "Solved in 19 iterations and 0.02 seconds (0.00 work units)\n",
      "Optimal objective  2.557000000e+04\n"
     ]
    }
   ],
   "source": [
    "# ---- Solve ----\n",
    "\n",
    "model.setParam( 'OutputFlag', True) # silencing gurobi output or not\n",
    "model.setParam ('MIPGap', 0);       # find the optimal solution\n",
    "model.write(\"output.lp\")            # print the model in .lp format file\n",
    "\n",
    "model.optimize ()"
   ]
  },
  {
   "cell_type": "code",
   "execution_count": 8,
   "metadata": {},
   "outputs": [
    {
     "name": "stdout",
     "output_type": "stream",
     "text": [
      "\n",
      "--------------------------------------------------------------------\n",
      "\n",
      "Total profit :   25570.00 euro\n",
      "\n",
      "All decision variables:\n",
      "\n",
      "Day 1     bulk_1  bulk_2  bulk_3  bulk_4\n",
      "   front   0.717   0.000   0.000   0.000   0.717\n",
      "  center   0.000   0.000   1.076   0.000   1.076\n",
      "    back   0.000   0.598   0.000   0.000   0.598\n",
      "           0.717   0.598   1.076   0.000\n",
      "\n",
      "\n",
      "Day 2     bulk_1  bulk_2  bulk_3  bulk_4\n",
      "   front   0.000   9.483   0.000   0.000   9.483\n",
      "  center   0.000   0.000  14.224   0.000  14.224\n",
      "    back   0.000   2.586   5.316   0.000   7.902\n",
      "           0.000  12.069  19.540   0.000\n",
      "\n",
      "\n",
      "Day 3     bulk_1  bulk_2  bulk_3  bulk_4\n",
      "   front  12.000   0.000   0.000   0.000  12.000\n",
      "  center   7.283   0.000   4.384   6.333  18.000\n",
      "    back   0.000   3.333   0.000   6.667  10.000\n",
      "          19.283   3.333   4.384  13.000\n",
      "\n",
      "\n",
      "\n",
      "READY\n",
      "\n"
     ]
    }
   ],
   "source": [
    "# --- Print results ---\n",
    "print ('\\n--------------------------------------------------------------------\\n')\n",
    "    \n",
    "if model.status == GRB.Status.OPTIMAL: # If optimal solution is found\n",
    "    print ('Total profit : %10.2f euro' % model.objVal)\n",
    "    print ('')\n",
    "    print ('All decision variables:\\n')\n",
    "    \n",
    "    for k in K:\n",
    "        s = 'Day %d   ' % (k+1)\n",
    "        for i in I:\n",
    "            s = s + '%8s' % cargoname[i]\n",
    "        print (s)    \n",
    "\n",
    "        for j in J:\n",
    "            s = '%8s' % compname[j]\n",
    "            for i in I:\n",
    "                s = s + '%8.3f' % x[i,j,k].x\n",
    "            s = s + '%8.3f' % sum (x[i,j,k].x for i in I)    \n",
    "            print (s)    \n",
    "\n",
    "        s = '%8s' % ''\n",
    "        for i in I:\n",
    "            s = s + '%8.3f' % sum (x[i,j,k].x for j in J)    \n",
    "        print (s)\n",
    "        print ('\\n')    \n",
    "\n",
    "else:\n",
    "    print ('\\nNo feasible solution found')\n",
    "\n",
    "print ('\\nREADY\\n')\n"
   ]
  },
  {
   "cell_type": "code",
   "execution_count": null,
   "metadata": {},
   "outputs": [],
   "source": []
  },
  {
   "cell_type": "code",
   "execution_count": null,
   "metadata": {},
   "outputs": [],
   "source": []
  }
 ],
 "metadata": {
  "kernelspec": {
   "display_name": "Python 3",
   "language": "python",
   "name": "python3"
  },
  "language_info": {
   "codemirror_mode": {
    "name": "ipython",
    "version": 3
   },
   "file_extension": ".py",
   "mimetype": "text/x-python",
   "name": "python",
   "nbconvert_exporter": "python",
   "pygments_lexer": "ipython3",
   "version": "3.7.3"
  }
 },
 "nbformat": 4,
 "nbformat_minor": 2
}
